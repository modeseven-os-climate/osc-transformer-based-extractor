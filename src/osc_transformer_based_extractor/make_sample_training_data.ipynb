{
 "cells": [
  {
   "cell_type": "code",
   "execution_count": null,
   "metadata": {},
   "outputs": [],
   "source": [
    "import random\n",
    "import json\n",
    "import pandas as pd"
   ]
  },
  {
   "cell_type": "code",
   "execution_count": null,
   "metadata": {},
   "outputs": [],
   "source": [
    "df = pd.read_excel(r\"\\\\wwg00m.rootdom.net\\DFS\\HOME\\FHEL7SE\\Tanishq\\lala\\Hugging_Model\\OSC\\annotations_training.xlsx\")"
   ]
  },
  {
   "cell_type": "code",
   "execution_count": null,
   "metadata": {},
   "outputs": [],
   "source": [
    "# Open the file with explicit encoding parameter\n",
    "with open(\"OSC/result.json\", \"r\", encoding=\"utf-8\") as f:\n",
    "    data = json.load(f)\n",
    "\n",
    "\n",
    "# Load the KPI mapping file\n",
    "kpi_mapping = pd.read_csv(\"OSC/kpi_mapping.csv\")\n",
    "kpi_mapping = kpi_mapping.iloc[:, :5]\n",
    "kpi_mapping.head()"
   ]
  },
  {
   "cell_type": "code",
   "execution_count": null,
   "metadata": {},
   "outputs": [],
   "source": [
    "# Initialize lists to store data for new DataFrame\n",
    "question_list = []\n",
    "paragraph_list = []\n",
    "label_list = []\n",
    "\n",
    "for i in range(df.shape[0]):\n",
    "    paragraph = df[\"relevant_paragraphs\"][i].strip(\"[]\").strip('\"\"')\n",
    "    kpi_id = df[\"kpi_id\"][i]\n",
    "\n",
    "    for j in range(kpi_mapping.shape[0]):\n",
    "        if kpi_id == kpi_mapping[\"kpi_id\"][j]:\n",
    "            question = kpi_mapping[\"question\"][j]\n",
    "            LABEL = 1\n",
    "            break\n",
    "\n",
    "    # Append values to lists\n",
    "    question_list.append(question)\n",
    "    paragraph_list.append(paragraph)\n",
    "    label_list.append(LABEL)\n",
    "\n",
    "# Create new DataFrame\n",
    "new_df = pd.DataFrame({\"question\": question_list, \"paragraph\": paragraph_list, \"label\": label_list})\n",
    "\n",
    "# Display new DataFrame\n",
    "print(new_df)"
   ]
  },
  {
   "cell_type": "markdown",
   "metadata": {},
   "source": [
    "### genereate negative data"
   ]
  },
  {
   "cell_type": "code",
   "execution_count": null,
   "metadata": {},
   "outputs": [],
   "source": [
    "ran_ques = []\n",
    "ran_par = []\n",
    "ran_lab = []\n",
    "\n",
    "\n",
    "for i in range(df.shape[0]):\n",
    "    paragraph = df[\"relevant_paragraphs\"][i].strip(\"[]\").strip('\"\"')\n",
    "    kpi_id = df[\"kpi_id\"][i]\n",
    "\n",
    "    for j in range(kpi_mapping.shape[0]):\n",
    "        if kpi_id != kpi_mapping[\"kpi_id\"][j]:\n",
    "            question = kpi_mapping[\"question\"][j]\n",
    "            LABEL = 0\n",
    "\n",
    "            # Append values to lists\n",
    "            ran_ques.append(question)\n",
    "            ran_par.append(paragraph)\n",
    "            ran_lab.append(LABEL)\n",
    "\n",
    "\n",
    "combined = list(zip(ran_ques, ran_par, ran_lab))\n",
    "random.shuffle(combined)\n",
    "sampled = random.sample(combined, 20)\n",
    "ran_ques, ran_par, ran_lab = zip(*sampled)\n",
    "\n",
    "sampled_df = pd.DataFrame({\"question\": ran_ques, \"paragraph\": ran_par, \"label\": ran_lab})\n",
    "\n",
    "# Append the sampled DataFrame to new_df\n",
    "new_df = new_df.append(sampled_df, ignore_index=True)\n",
    "\n",
    "# Display new_df\n",
    "print(new_df)"
   ]
  },
  {
   "cell_type": "code",
   "execution_count": null,
   "metadata": {},
   "outputs": [],
   "source": [
    "# shuffling the data\n",
    "shuffled_df = new_df.sample(frac=1, random_state=42).reset_index(drop=True)"
   ]
  },
  {
   "cell_type": "code",
   "execution_count": null,
   "metadata": {},
   "outputs": [],
   "source": [
    "shuffled_df.to_csv(\"data/train_data.csv\", index=False)"
   ]
  },
  {
   "cell_type": "code",
   "execution_count": null,
   "metadata": {},
   "outputs": [],
   "source": []
  },
  {
   "cell_type": "code",
   "execution_count": null,
   "metadata": {},
   "outputs": [],
   "source": []
  },
  {
   "cell_type": "code",
   "execution_count": null,
   "metadata": {},
   "outputs": [],
   "source": []
  },
  {
   "cell_type": "code",
   "execution_count": null,
   "metadata": {},
   "outputs": [],
   "source": []
  },
  {
   "cell_type": "code",
   "execution_count": null,
   "metadata": {},
   "outputs": [],
   "source": []
  },
  {
   "cell_type": "code",
   "execution_count": null,
   "metadata": {},
   "outputs": [],
   "source": []
  }
 ],
 "metadata": {
  "anaconda-cloud": {},
  "kernelspec": {
   "display_name": "Python 3",
   "language": "python",
   "name": "python3"
  },
  "language_info": {
   "codemirror_mode": {
    "name": "ipython",
    "version": 3
   },
   "file_extension": ".py",
   "mimetype": "text/x-python",
   "name": "python",
   "nbconvert_exporter": "python",
   "pygments_lexer": "ipython3",
   "version": "3.6.1"
  }
 },
 "nbformat": 4,
 "nbformat_minor": 4
}
